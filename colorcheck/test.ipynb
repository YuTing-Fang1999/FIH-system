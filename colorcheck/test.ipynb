{
 "cells": [
  {
   "cell_type": "code",
   "execution_count": 3,
   "id": "bd42d079",
   "metadata": {},
   "outputs": [],
   "source": [
    "import cv2\n",
    "img = cv2.imread('ColorChecker1.jpg')\n",
    "# cv2.imshow('img', img)\n",
    "# cv2.waitKey(0)\n",
    "# cv2.destroyAllWindows()"
   ]
  },
  {
   "cell_type": "code",
   "execution_count": 4,
   "id": "2ce932fa",
   "metadata": {},
   "outputs": [
    {
     "data": {
      "text/plain": [
       "(297, 441, 3)"
      ]
     },
     "execution_count": 4,
     "metadata": {},
     "output_type": "execute_result"
    }
   ],
   "source": [
    "img.shape"
   ]
  },
  {
   "cell_type": "code",
   "execution_count": 5,
   "id": "a962811a",
   "metadata": {},
   "outputs": [],
   "source": [
    "def ResizeWithAspectRatio(image, width=None, height=None, inter=cv2.INTER_AREA):\n",
    "    dim = None\n",
    "    (h, w) = image.shape[:2]\n",
    "\n",
    "    if width is None and height is None:\n",
    "        return image\n",
    "    if width is None:\n",
    "        r = height / float(h)\n",
    "        dim = (int(w * r), height)\n",
    "    else:\n",
    "        r = width / float(w)\n",
    "        dim = (width, int(h * r))\n",
    "\n",
    "    return cv2.resize(image, dim, interpolation=inter)\n",
    "\n",
    "def getROIposition(img):\n",
    "    resize = ResizeWithAspectRatio(img, width=600) # Resize by width OR\n",
    "    scale = img.shape[0] / resize.shape[0]\n",
    "\n",
    "    roi = cv2.selectROI(windowName=\"roi\", img=resize, showCrosshair=False, fromCenter=False)\n",
    "    roi = list(map(lambda x: int(x * scale), roi))\n",
    "#     x, y, w, h = roi\n",
    "\n",
    "    # cv2.imshow(\"roi\", img[y : y+h, x:x+w])\n",
    "    # cv2.waitKey(0)\n",
    "    cv2.destroyAllWindows()\n",
    "    return roi"
   ]
  },
  {
   "cell_type": "code",
   "execution_count": 62,
   "id": "35804058",
   "metadata": {},
   "outputs": [],
   "source": [
    "img = cv2.imread('ColorChecker1.jpg')\n",
    "x, y, w, h = getROIposition(img)\n",
    "img = img[y:y+h, x:x+w]\n",
    "h, w, c = img.shape\n",
    "color = (0, 0, 255) # red\n",
    "thickness = 2 # 寬度 (-1 表示填滿)\n",
    "square = 0.08*w\n",
    "padding = 0.087*w\n",
    "\n",
    "start_h = 0.044*w\n",
    "for i in range(4):\n",
    "    start_w = 0.044*w\n",
    "    for j in range(6):\n",
    "        patch = img[int(start_h):int(start_h+square), int(start_w):int(start_w+square)]\n",
    "        cv2.imshow('patch', patch)\n",
    "        cv2.waitKey(0)\n",
    "        cv2.destroyAllWindows()\n",
    "#         cv2.rectangle(img, (int(start_w), int(start_h)), (int(start_w+square), int(start_h+square)), color, thickness)\n",
    "        start_w+=(square+padding)\n",
    "    start_h+=(square+padding)\n",
    "    \n",
    "cv2.imshow('img', img)\n",
    "cv2.waitKey(0)\n",
    "cv2.destroyAllWindows()"
   ]
  },
  {
   "cell_type": "code",
   "execution_count": 54,
   "id": "87769661",
   "metadata": {},
   "outputs": [],
   "source": [
    "cv2.imshow('img', img)\n",
    "cv2.waitKey(0)\n",
    "cv2.destroyAllWindows()"
   ]
  },
  {
   "cell_type": "code",
   "execution_count": 59,
   "id": "71827ab9",
   "metadata": {},
   "outputs": [
    {
     "data": {
      "text/plain": [
       "(283, 431)"
      ]
     },
     "execution_count": 59,
     "metadata": {},
     "output_type": "execute_result"
    }
   ],
   "source": [
    "img[:,:,0].shape"
   ]
  },
  {
   "cell_type": "code",
   "execution_count": 51,
   "id": "46e574e3",
   "metadata": {},
   "outputs": [],
   "source": [
    "import numpy as np\n",
    "def signaltonoise(a):\n",
    "    a = np.asanyarray(a)\n",
    "    m = a.mean()\n",
    "    sd = a.std()\n",
    "    return m/sd\n"
   ]
  },
  {
   "cell_type": "code",
   "execution_count": 52,
   "id": "137e966f",
   "metadata": {},
   "outputs": [
    {
     "data": {
      "text/plain": [
       "2.261484349573313"
      ]
     },
     "execution_count": 52,
     "metadata": {},
     "output_type": "execute_result"
    }
   ],
   "source": [
    "signaltonoise(cv2.cvtColor(img, cv2.COLOR_BGR2GRAY))"
   ]
  },
  {
   "cell_type": "code",
   "execution_count": 64,
   "id": "7d5c2108",
   "metadata": {},
   "outputs": [
    {
     "data": {
      "text/plain": [
       "-0.5228787452803376"
      ]
     },
     "execution_count": 64,
     "metadata": {},
     "output_type": "execute_result"
    }
   ],
   "source": [
    "np.log10(0.3)"
   ]
  },
  {
   "cell_type": "code",
   "execution_count": 67,
   "id": "a0654c27",
   "metadata": {},
   "outputs": [
    {
     "data": {
      "text/plain": [
       "array([[1, 2],\n",
       "       [3, 4]])"
      ]
     },
     "execution_count": 67,
     "metadata": {},
     "output_type": "execute_result"
    }
   ],
   "source": [
    "a1 = np.array([[1,2],[3,4]])\n",
    "a1"
   ]
  },
  {
   "cell_type": "code",
   "execution_count": 68,
   "id": "5bb918e6",
   "metadata": {},
   "outputs": [
    {
     "data": {
      "text/plain": [
       "array([[2, 3],\n",
       "       [1, 0]])"
      ]
     },
     "execution_count": 68,
     "metadata": {},
     "output_type": "execute_result"
    }
   ],
   "source": [
    "a2 = np.array([[2,3],[1,0]])\n",
    "a2"
   ]
  },
  {
   "cell_type": "code",
   "execution_count": 77,
   "id": "4226a94b",
   "metadata": {},
   "outputs": [
    {
     "data": {
      "text/plain": [
       "[array([[1, 2],\n",
       "        [3, 4]]),\n",
       " array([[2, 3],\n",
       "        [1, 0]])]"
      ]
     },
     "execution_count": 77,
     "metadata": {},
     "output_type": "execute_result"
    }
   ],
   "source": [
    "a = [a1, a2]\n",
    "a"
   ]
  },
  {
   "cell_type": "code",
   "execution_count": 78,
   "id": "2d9dbf61",
   "metadata": {},
   "outputs": [
    {
     "data": {
      "text/plain": [
       "array([[2, 3],\n",
       "       [3, 4]])"
      ]
     },
     "execution_count": 78,
     "metadata": {},
     "output_type": "execute_result"
    }
   ],
   "source": [
    "np.max(a,axis=0)"
   ]
  },
  {
   "cell_type": "code",
   "execution_count": 87,
   "id": "0d697949",
   "metadata": {},
   "outputs": [
    {
     "data": {
      "text/plain": [
       "array([['N', 'N'],\n",
       "       ['g', 'g']], dtype='<U1')"
      ]
     },
     "execution_count": 87,
     "metadata": {},
     "output_type": "execute_result"
    }
   ],
   "source": [
    "max_idx = np.where(a1==np.max(a,axis=0))\n",
    "c1[max_idx] = 'g'\n",
    "c1"
   ]
  },
  {
   "cell_type": "code",
   "execution_count": 85,
   "id": "b7135b7a",
   "metadata": {},
   "outputs": [
    {
     "data": {
      "text/plain": [
       "array([['N', 'N'],\n",
       "       ['N', 'N']], dtype='<U1')"
      ]
     },
     "execution_count": 85,
     "metadata": {},
     "output_type": "execute_result"
    }
   ],
   "source": [
    "c1 = np.array([['N']*2]*2)\n",
    "c1"
   ]
  },
  {
   "cell_type": "code",
   "execution_count": null,
   "id": "96a16915",
   "metadata": {},
   "outputs": [],
   "source": []
  },
  {
   "cell_type": "code",
   "execution_count": 73,
   "id": "216d9be2",
   "metadata": {},
   "outputs": [
    {
     "data": {
      "text/plain": [
       "array([1, 2])"
      ]
     },
     "execution_count": 73,
     "metadata": {},
     "output_type": "execute_result"
    }
   ],
   "source": [
    "a1[a1<a2]"
   ]
  },
  {
   "cell_type": "code",
   "execution_count": 72,
   "id": "4b087440",
   "metadata": {},
   "outputs": [
    {
     "ename": "TypeError",
     "evalue": "only integer scalar arrays can be converted to a scalar index",
     "output_type": "error",
     "traceback": [
      "\u001b[1;31m---------------------------------------------------------------------------\u001b[0m",
      "\u001b[1;31mTypeError\u001b[0m                                 Traceback (most recent call last)",
      "Input \u001b[1;32mIn [72]\u001b[0m, in \u001b[0;36m<cell line: 1>\u001b[1;34m()\u001b[0m\n\u001b[1;32m----> 1\u001b[0m c1[a1\u001b[38;5;241m<\u001b[39ma2] \u001b[38;5;241m=\u001b[39m \u001b[38;5;124m'\u001b[39m\u001b[38;5;124mr\u001b[39m\u001b[38;5;124m'\u001b[39m\n\u001b[0;32m      2\u001b[0m c1\n",
      "\u001b[1;31mTypeError\u001b[0m: only integer scalar arrays can be converted to a scalar index"
     ]
    }
   ],
   "source": [
    "c1[a1<a2] = 'r'\n",
    "c1"
   ]
  }
 ],
 "metadata": {
  "kernelspec": {
   "display_name": "Python 3 (ipykernel)",
   "language": "python",
   "name": "python3"
  },
  "language_info": {
   "codemirror_mode": {
    "name": "ipython",
    "version": 3
   },
   "file_extension": ".py",
   "mimetype": "text/x-python",
   "name": "python",
   "nbconvert_exporter": "python",
   "pygments_lexer": "ipython3",
   "version": "3.9.10"
  }
 },
 "nbformat": 4,
 "nbformat_minor": 5
}
